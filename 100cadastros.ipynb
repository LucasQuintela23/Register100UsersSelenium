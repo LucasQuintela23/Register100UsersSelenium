{
 "cells": [
  {
   "cell_type": "code",
   "execution_count": null,
   "metadata": {},
   "outputs": [],
   "source": [
    "from selenium import webdriver\n",
    "from selenium.webdriver.common.by import By\n",
    "from selenium.webdriver.common.keys import Keys\n",
    "import pandas as pd\n",
    "import time\n",
    "\n",
    "# Configuração do Selenium\n",
    "driver = webdriver.Chrome()  # Use o driver correspondente ao seu navegador\n",
    "driver.maximize_window()"
   ]
  },
  {
   "cell_type": "code",
   "execution_count": 6,
   "metadata": {},
   "outputs": [],
   "source": [
    "# URL do formulário de cadastro\n",
    "URL = \"https://curso-web-scraping.pages.dev//#/exemplo/2\"  # Substitua pela URL real"
   ]
  },
  {
   "cell_type": "code",
   "execution_count": 7,
   "metadata": {},
   "outputs": [],
   "source": [
    "# Carregar os dados do Excel\n",
    "dados = pd.read_excel(\"usuarios.xlsx\")"
   ]
  },
  {
   "cell_type": "code",
   "execution_count": null,
   "metadata": {},
   "outputs": [],
   "source": [
    "# Verifica se o Excel contém os campos necessários\n",
    "if \"email\" not in dados.columns or \"senha\" not in dados.columns:\n",
    "    raise ValueError(\"O arquivo Excel deve conter as colunas 'email' e 'senha'.\")\n",
    "\n",
    "# Iterar sobre as linhas do DataFrame e realizar os cadastros\n",
    "for index, row in dados.iterrows():\n",
    "    try:\n",
    "        email = row[\"email\"]\n",
    "        senha = row[\"senha\"]\n",
    "\n",
    "        # Acessa a página de cadastro\n",
    "        driver.get(URL)\n",
    "\n",
    "        # Preenche o campo de e-mail (ajuste o seletor conforme necessário)\n",
    "        email_field = driver.find_element(By.NAME, \"email\")  # Altere para o seletor correto\n",
    "        email_field.send_keys(email)\n",
    "\n",
    "        # Preenche o campo de senha\n",
    "        senha_field = driver.find_element(By.NAME, \"senha\")  # Altere para o seletor correto\n",
    "        senha_field.send_keys(senha)\n",
    "\n",
    "        # Submete o formulário\n",
    "        email_field.submit()\n",
    "\n",
    "        # Aguarda para garantir que o cadastro foi processado (ajuste o tempo se necessário)\n",
    "        time.sleep(1)\n",
    "\n",
    "         # Limpa os campos de e-mail e senha\n",
    "        email_field.clear()\n",
    "        senha_field.clear()\n",
    "\n",
    "        print(f\"Cadastro realizado para: {email}\")\n",
    "    except Exception as e:\n",
    "        print(f\"Erro ao cadastrar {email}: {e}\")\n",
    "\n",
    "# Finaliza o navegador\n",
    "driver.quit()"
   ]
  }
 ],
 "metadata": {
  "kernelspec": {
   "display_name": ".venv",
   "language": "python",
   "name": "python3"
  },
  "language_info": {
   "codemirror_mode": {
    "name": "ipython",
    "version": 3
   },
   "file_extension": ".py",
   "mimetype": "text/x-python",
   "name": "python",
   "nbconvert_exporter": "python",
   "pygments_lexer": "ipython3",
   "version": "3.12.3"
  }
 },
 "nbformat": 4,
 "nbformat_minor": 2
}
